{
  "nbformat": 4,
  "nbformat_minor": 0,
  "metadata": {
    "colab": {
      "name": "guess_game.ipynb",
      "provenance": [],
      "authorship_tag": "ABX9TyNxdaOQqwMPnXgB1t9GUy53",
      "include_colab_link": true
    },
    "kernelspec": {
      "name": "python3",
      "display_name": "Python 3"
    },
    "language_info": {
      "name": "python"
    }
  },
  "cells": [
    {
      "cell_type": "markdown",
      "metadata": {
        "id": "view-in-github",
        "colab_type": "text"
      },
      "source": [
        "<a href=\"https://colab.research.google.com/github/PatricRc/Guess_Game/blob/main/guess_game.ipynb\" target=\"_parent\"><img src=\"https://colab.research.google.com/assets/colab-badge.svg\" alt=\"Open In Colab\"/></a>"
      ]
    },
    {
      "cell_type": "markdown",
      "metadata": {
        "id": "NjiYRCKIiyP9"
      },
      "source": [
        "## Importar blibiotecas"
      ]
    },
    {
      "cell_type": "code",
      "metadata": {
        "id": "zidB9NElE9bF"
      },
      "source": [
        "import random"
      ],
      "execution_count": 1,
      "outputs": []
    },
    {
      "cell_type": "markdown",
      "metadata": {
        "id": "MN7l-O1ui1uT"
      },
      "source": [
        "## Crear función del juego"
      ]
    },
    {
      "cell_type": "code",
      "metadata": {
        "id": "POMXiRFBE_nw"
      },
      "source": [
        "def game():\n",
        "\n",
        "  number = random.randint(0,100)\n",
        "  tries = 1\n",
        "  done = False\n",
        "\n",
        "  while not done:\n",
        "    guess = int(input(\"Adivina el numero!!!\"))\n",
        "\n",
        "    if guess == number:\n",
        "      done = True\n",
        "      print(f\"Adivinaste!!!!!!! necesitaste {tries} intentos\")\n",
        "\n",
        "    else:\n",
        "      tries += 1\n",
        "      if guess > number: \n",
        "        print(\"Adivinaste mal, es menos\")\n",
        "      else:\n",
        "        print(\"Adivinaste mal, es más\")\n",
        "      if tries > 5:\n",
        "        print(\"Lo siento muchos intentos - Intenta de nuevo!!\")"
      ],
      "execution_count": 2,
      "outputs": []
    },
    {
      "cell_type": "markdown",
      "metadata": {
        "id": "ooLzRlAsGzrV"
      },
      "source": [
        "## Prueba el juego"
      ]
    },
    {
      "cell_type": "code",
      "metadata": {
        "colab": {
          "base_uri": "https://localhost:8080/"
        },
        "id": "ae_bLpQOGpAv",
        "outputId": "f03a86c7-b09e-456b-fcef-a8b037ee839a"
      },
      "source": [
        "game()"
      ],
      "execution_count": 3,
      "outputs": [
        {
          "output_type": "stream",
          "name": "stdout",
          "text": [
            "Adivina el numero!!!20\n",
            "Adivinaste mal, es menos\n",
            "Adivina el numero!!!16\n",
            "Adivinaste mal, es menos\n",
            "Adivina el numero!!!9\n",
            "Adivinaste mal, es menos\n",
            "Adivina el numero!!!4\n",
            "Adivinaste!!!!!!! necesitaste 4 intentos\n"
          ]
        }
      ]
    }
  ]
}